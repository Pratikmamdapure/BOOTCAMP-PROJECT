{
 "cells": [
  {
   "cell_type": "code",
   "execution_count": 1,
   "id": "c3a38cdc",
   "metadata": {},
   "outputs": [
    {
     "name": "stdout",
     "output_type": "stream",
     "text": [
      "enter the word PRATIK\n",
      "MD5 hash for PRATIK is  b152dcee183777732c28617e696bc6d9\n"
     ]
    }
   ],
   "source": [
    "import hashlib\n",
    "x=input(\"enter the word \")\n",
    "en=x.encode()\n",
    "MD5_format=hashlib.md5(en)\n",
    "MD5_hash=MD5_format.hexdigest()\n",
    "print(\"MD5 hash for \"+x+\" is \",MD5_hash)"
   ]
  },
  {
   "cell_type": "code",
   "execution_count": null,
   "id": "13a90fdb",
   "metadata": {},
   "outputs": [],
   "source": []
  }
 ],
 "metadata": {
  "kernelspec": {
   "display_name": "Python 3",
   "language": "python",
   "name": "python3"
  },
  "language_info": {
   "codemirror_mode": {
    "name": "ipython",
    "version": 3
   },
   "file_extension": ".py",
   "mimetype": "text/x-python",
   "name": "python",
   "nbconvert_exporter": "python",
   "pygments_lexer": "ipython3",
   "version": "3.8.8"
  }
 },
 "nbformat": 4,
 "nbformat_minor": 5
}
